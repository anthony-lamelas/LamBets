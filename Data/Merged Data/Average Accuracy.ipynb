{
 "cells": [
  {
   "cell_type": "markdown",
   "metadata": {},
   "source": [
    "# Accuracy by Year, Last 10 Years\n"
   ]
  },
  {
   "cell_type": "code",
   "execution_count": 13,
   "metadata": {},
   "outputs": [],
   "source": [
    "import pandas as pd\n",
    "import numpy as np"
   ]
  },
  {
   "cell_type": "code",
   "execution_count": 14,
   "metadata": {},
   "outputs": [],
   "source": [
    "seasons = ['2013-14', '2014-15','2015-16', '2016-17','2017-18','2018-19','2019-20','2020-21', '2021-22', '2022-23']\n",
    "accuracy = [49.37, 72.62, 90.49, 81.55, 93.91, 84.73, 82.32, 90.26, 77.62, 73.13]\n",
    "\n",
    "acc_np = np.array(accuracy)\n",
    "\n",
    "average_acc = acc_np.mean()\n"
   ]
  },
  {
   "cell_type": "code",
   "execution_count": 15,
   "metadata": {},
   "outputs": [
    {
     "name": "stdout",
     "output_type": "stream",
     "text": [
      "   Seasons  Prediction Accuracy\n",
      "0  2013-14                49.37\n",
      "1  2014-15                72.62\n",
      "2  2015-16                90.49\n",
      "3  2016-17                81.55\n",
      "4  2017-18                93.91\n",
      "5  2018-19                84.73\n",
      "6  2019-20                82.32\n",
      "7  2020-21                90.26\n",
      "8  2021-22                77.62\n",
      "9  2022-23                73.13\n",
      "79.6\n"
     ]
    }
   ],
   "source": [
    "accuracy_df = pd.DataFrame({\n",
    "    'Seasons' : seasons,\n",
    "    'Prediction Accuracy' : accuracy\n",
    "})\n",
    "\n",
    "print(accuracy_df)\n",
    "print(average_acc)"
   ]
  }
 ],
 "metadata": {
  "kernelspec": {
   "display_name": "NBAML",
   "language": "python",
   "name": "python3"
  },
  "language_info": {
   "codemirror_mode": {
    "name": "ipython",
    "version": 3
   },
   "file_extension": ".py",
   "mimetype": "text/x-python",
   "name": "python",
   "nbconvert_exporter": "python",
   "pygments_lexer": "ipython3",
   "version": "3.10.13"
  }
 },
 "nbformat": 4,
 "nbformat_minor": 2
}
